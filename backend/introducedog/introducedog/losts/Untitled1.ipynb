{
 "cells": [
  {
   "cell_type": "code",
   "execution_count": 5,
   "metadata": {},
   "outputs": [],
   "source": [
    "import numpy as np\n",
    "import glob\n",
    "import os\n",
    "from keras.models import load_model\n",
    "from PIL import Image\n",
    "from django.shortcuts import get_object_or_404, render\n",
    "from django.shortcuts import render\n",
    "from django.views import View\n",
    "from django.http import HttpResponse, JsonResponse\n",
    "from io import BytesIO\n",
    "# Create your views here.\n",
    "# from dogs.models import Dog\n",
    "\n",
    "import json\n",
    "import logging\n",
    "from skimage import io\n",
    "import matplotlib.pyplot as plt\n",
    "from urllib import request"
   ]
  },
  {
   "cell_type": "code",
   "execution_count": 6,
   "metadata": {},
   "outputs": [],
   "source": [
    "data = {}\n",
    "data['img_url'] = \"https://new-aws-album.s3.ap-northeast-2.amazonaws.com/%EB%A7%90%ED%8B%B0%EC%A6%88.jpg\""
   ]
  },
  {
   "cell_type": "code",
   "execution_count": 9,
   "metadata": {},
   "outputs": [
    {
     "name": "stdout",
     "output_type": "stream",
     "text": [
      "[0.000 0.000 1.000 0.000 0.000]\n",
      "2\n",
      "치와와\n"
     ]
    }
   ],
   "source": [
    "image_w = 64\n",
    "image_h = 64\n",
    "\n",
    "pixels = image_h * image_w * 3\n",
    "\n",
    "X = []\n",
    "filenames = []\n",
    "model = load_model(\n",
    "            'C:\\\\Users\\\\multicampus\\\\Desktop\\\\jin\\\\s03p23a307\\\\backend\\\\introducedog\\\\introducedog\\\\losts\\\\dog_recog_model.h5')\n",
    "res = request.urlopen(data['img_url']).read()\n",
    "img = Image.open(BytesIO(res))\n",
    "img = img.convert(\"RGB\")\n",
    "img = img.resize((image_w, image_h))\n",
    "data = np.asarray(img)\n",
    "X.append(data)\n",
    "X = np.array(X)\n",
    "prediction = model.predict(X)\n",
    "np.set_printoptions(formatter={'float': lambda x: \"{0:0.3f}\".format(x)})\n",
    "cnt = 0\n",
    "for i in prediction:\n",
    "    pre_ans = i.argmax()  # 예측 레이블\n",
    "    print(i)\n",
    "    print(pre_ans)\n",
    "    pre_ans_str = ''\n",
    "    if pre_ans == 0: pre_ans_str = \"포메\"\n",
    "    elif pre_ans == 1: pre_ans_str = \"말티즈\"\n",
    "    elif pre_ans == 2: pre_ans_str = \"치와와\"\n",
    "    elif pre_ans == 3: pre_ans_str = \"토이푸들\"\n",
    "    else: pre_ans_str = \"골든리트리버\"\n",
    "    print(pre_ans_str)\n",
    "    cnt += 1"
   ]
  },
  {
   "cell_type": "code",
   "execution_count": null,
   "metadata": {},
   "outputs": [],
   "source": []
  }
 ],
 "metadata": {
  "kernelspec": {
   "display_name": "Python 3",
   "language": "python",
   "name": "python3"
  },
  "language_info": {
   "codemirror_mode": {
    "name": "ipython",
    "version": 3
   },
   "file_extension": ".py",
   "mimetype": "text/x-python",
   "name": "python",
   "nbconvert_exporter": "python",
   "pygments_lexer": "ipython3",
   "version": "3.6.8"
  }
 },
 "nbformat": 4,
 "nbformat_minor": 4
}
